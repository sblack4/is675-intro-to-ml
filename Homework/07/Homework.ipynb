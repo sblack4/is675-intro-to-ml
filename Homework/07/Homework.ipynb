{
 "cells": [
  {
   "attachments": {},
   "cell_type": "markdown",
   "metadata": {},
   "source": [
    "IS 675: Data Mining\n",
    "Summer 2019\n",
    "## Homework Assignment 7 (Due July, 2182019, midnight EST)\n",
    "\n",
    "\n",
    "\n",
    "1. Import appropriate libraries to cluster iris data using k-means. (10 points)\n",
    "2. Load the iris data: first 4 attributes into X and the class attribute into y. (10 points)\n",
    "3. Create 3 clusters using K-means algorithm. (10 points)\n",
    "4. Save the centroids of each cluster into a variable. (10 points)\n",
    "5. Plot (2D) the data points with color-coded clusters along with the centroids using any two features. Which two features show the best cluster separation? (30 points)\n",
    "6. Calculate the silhouette coefficients. (10 points)\n",
    "7. Assuming that the data is ordered by class labels, print the average silhouette coefficient for each class. (20 points)\n"
   ]
  },
  {
   "cell_type": "code",
   "execution_count": null,
   "metadata": {},
   "outputs": [],
   "source": []
  },
  {
   "cell_type": "code",
   "execution_count": null,
   "metadata": {},
   "outputs": [],
   "source": []
  }
 ],
 "metadata": {
  "kernelspec": {
   "display_name": "Python 3",
   "language": "python",
   "name": "python3"
  },
  "language_info": {
   "codemirror_mode": {
    "name": "ipython",
    "version": 3
   },
   "file_extension": ".py",
   "mimetype": "text/x-python",
   "name": "python",
   "nbconvert_exporter": "python",
   "pygments_lexer": "ipython3",
   "version": "3.7.4"
  }
 },
 "nbformat": 4,
 "nbformat_minor": 2
}
