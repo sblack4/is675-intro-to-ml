{
 "cells": [
  {
   "attachments": {},
   "cell_type": "markdown",
   "metadata": {},
   "source": [
    "IS 675: Data Mining\n",
    "Summer 2019\n",
    "## Homework Assignment 6 \n",
    "(Due July, 21 2019, midnight EST)\n",
    "\n",
    "\n",
    "\n",
    "1. Load the iris dataset. (10 points)\n",
    "2. Select the first 100 data that has two classes. Select the first two predicting attributes and the class attribute.  10 points)\n",
    "3. Create a linear SVM and fit the data. (10 points)\n",
    "4. Create a function to plot the points color-coded by the class values, the decision boundary, and the support vectors. (30 points)\n",
    "5. Plot the data using the function. (10 points)\n",
    "6. Divide the data into two sets: train (75%) and test (25%). (10 points)\n",
    "7. Fit the training data using a linear SVM. (10 points)\n",
    "8. Predict the labels for the test data and compare the results. (10 points)\n",
    "9. Extra credit: Plot the training data using the function created in question #4 and plot the test data as stars as shown in the lecture slides. (20 points)\n"
   ]
  },
  {
   "cell_type": "code",
   "execution_count": null,
   "metadata": {},
   "outputs": [],
   "source": []
  },
  {
   "cell_type": "markdown",
   "metadata": {},
   "source": [
    "## 1. Load the iris dataset. (10 points)\n"
   ]
  },
  {
   "cell_type": "code",
   "execution_count": null,
   "metadata": {},
   "outputs": [],
   "source": []
  },
  {
   "cell_type": "markdown",
   "metadata": {},
   "source": [
    "## 2. Select the first 100 data that has two classes. Select the first two predicting attributes and the class attribute.  10 points)\n",
    "\n"
   ]
  },
  {
   "cell_type": "code",
   "execution_count": null,
   "metadata": {},
   "outputs": [],
   "source": []
  },
  {
   "cell_type": "markdown",
   "metadata": {},
   "source": [
    "## 3. Create a linear SVM and fit the data. (10 points)\n"
   ]
  },
  {
   "cell_type": "code",
   "execution_count": null,
   "metadata": {},
   "outputs": [],
   "source": []
  },
  {
   "cell_type": "markdown",
   "metadata": {},
   "source": [
    "## 4. Create a function to plot the points color-coded by the class values, the decision boundary, and the support vectors. (30 points)\n"
   ]
  },
  {
   "cell_type": "code",
   "execution_count": null,
   "metadata": {},
   "outputs": [],
   "source": []
  },
  {
   "cell_type": "markdown",
   "metadata": {},
   "source": [
    "## 5. Plot the data using the function. (10 points)\n"
   ]
  },
  {
   "cell_type": "code",
   "execution_count": null,
   "metadata": {},
   "outputs": [],
   "source": []
  },
  {
   "cell_type": "markdown",
   "metadata": {},
   "source": [
    "## 6. Divide the data into two sets: train (75%) and test (25%). (10 points)\n"
   ]
  },
  {
   "cell_type": "code",
   "execution_count": null,
   "metadata": {},
   "outputs": [],
   "source": []
  },
  {
   "cell_type": "markdown",
   "metadata": {},
   "source": [
    "## 7. Fit the training data using a linear SVM. (10 points)\n"
   ]
  },
  {
   "cell_type": "code",
   "execution_count": null,
   "metadata": {},
   "outputs": [],
   "source": []
  },
  {
   "cell_type": "markdown",
   "metadata": {},
   "source": [
    "## 8. Predict the labels for the test data and compare the results. (10 points)\n"
   ]
  },
  {
   "cell_type": "code",
   "execution_count": null,
   "metadata": {},
   "outputs": [],
   "source": []
  },
  {
   "cell_type": "markdown",
   "metadata": {},
   "source": [
    "## 9. Extra credit: Plot the training data using the function created in question #4 and plot the test data as stars as shown in the lecture slides. (20 points)\n"
   ]
  },
  {
   "cell_type": "code",
   "execution_count": null,
   "metadata": {},
   "outputs": [],
   "source": []
  }
 ],
 "metadata": {
  "kernelspec": {
   "display_name": "Python 3",
   "language": "python",
   "name": "python3"
  },
  "language_info": {
   "codemirror_mode": {
    "name": "ipython",
    "version": 3
   },
   "file_extension": ".py",
   "mimetype": "text/x-python",
   "name": "python",
   "nbconvert_exporter": "python",
   "pygments_lexer": "ipython3",
   "version": "3.7.4"
  }
 },
 "nbformat": 4,
 "nbformat_minor": 2
}
