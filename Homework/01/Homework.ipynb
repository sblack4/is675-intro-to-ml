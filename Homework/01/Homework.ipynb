{
 "cells": [
  {
   "cell_type": "markdown",
   "metadata": {},
   "source": [
    "# Directions\n",
    "\n",
    "IS 675: Data Mining\n",
    "Summer 2019\n",
    "Homework Assignment 1 (Due June 16, 2019, midnight EST)\n",
    "\n",
    "\n",
    "Use the iris dataset attached to this assignment.   (20 points each)\n",
    "\n",
    "1. Load the iris data into a matrix. Note that you can modify the `file2matrix()` function in the book to do this. \n",
    "1. Note that the data is ordered by the class, so it needs to be shuffled. Import numpy  and use the `random.shuffle()` function to shuffle the data. \\[Hint: `np.random.shuffle(irisDataMat)`]\n",
    "1. Divide the data such that the data and class labels are stored in separate arrays.\n",
    "1. Divide the data into four matrices: training data, training labels, test data, test labels. Training data should be the first 100 rows and test data should contain the last 50 rows.\n",
    "1. Use the `classify0()` and `datingClassTest()` functions shown in the book to test the classification accuracy. Modify the `datingClassTest()` appropriately with a meaningful name and code to suit the iris dataset.\n"
   ]
  },
  {
   "cell_type": "code",
   "execution_count": 2,
   "metadata": {},
   "outputs": [],
   "source": [
    "import numpy as np"
   ]
  },
  {
   "cell_type": "markdown",
   "metadata": {},
   "source": [
    "# 1. Load the iris data into a matrix. \n",
    "\n",
    "Note that you can modify the `file2matrix()` function in the book to do this."
   ]
  },
  {
   "cell_type": "code",
   "execution_count": 13,
   "metadata": {},
   "outputs": [
    {
     "data": {
      "text/plain": [
       "array([[5.1, 3.5, 1.4, 0.2, 1. ],\n",
       "       [4.9, 3. , 1.4, 0.2, 1. ],\n",
       "       [4.7, 3.2, 1.3, 0.2, 1. ],\n",
       "       [4.6, 3.1, 1.5, 0.2, 1. ],\n",
       "       [5. , 3.6, 1.4, 0.2, 1. ],\n",
       "       [5.4, 3.9, 1.7, 0.4, 1. ],\n",
       "       [4.6, 3.4, 1.4, 0.3, 1. ],\n",
       "       [5. , 3.4, 1.5, 0.2, 1. ],\n",
       "       [4.4, 2.9, 1.4, 0.2, 1. ],\n",
       "       [4.9, 3.1, 1.5, 0.1, 1. ]])"
      ]
     },
     "execution_count": 13,
     "metadata": {},
     "output_type": "execute_result"
    }
   ],
   "source": [
    "irisDataMat = np.genfromtxt('iris_data.txt', delimiter=',')\n",
    "\n",
    "irisDataMat[:10]"
   ]
  },
  {
   "cell_type": "markdown",
   "metadata": {},
   "source": [
    "## 2. Shuffle \n",
    "Note that the data is ordered by the class, so it needs to be shuffled. Import numpy and use the `random.shuffle()` function to shuffle the data. [Hint: `np.random.shuffle(irisDataMat)`]\n"
   ]
  },
  {
   "cell_type": "code",
   "execution_count": 14,
   "metadata": {},
   "outputs": [],
   "source": [
    "np.random.shuffle(irisDataMat)"
   ]
  },
  {
   "cell_type": "markdown",
   "metadata": {},
   "source": [
    "## 3. Divide the data such that the data and class labels are stored in separate arrays.\n"
   ]
  },
  {
   "cell_type": "code",
   "execution_count": null,
   "metadata": {},
   "outputs": [],
   "source": []
  },
  {
   "cell_type": "markdown",
   "metadata": {},
   "source": [
    "## 4. Divide the data into four matrices: training data, training labels, test data, test labels. Training data should be the first 100 rows and test data should contain the last 50 rows.\n"
   ]
  },
  {
   "cell_type": "markdown",
   "metadata": {},
   "source": [
    "## 5. Use the `classify0()` and `datingClassTest()` functions shown in the book to test the classification accuracy. Modify the `datingClassTest()` appropriately with a meaningful name and code to suit the iris dataset."
   ]
  }
 ],
 "metadata": {
  "kernelspec": {
   "display_name": "Python 3",
   "language": "python",
   "name": "python3"
  },
  "language_info": {
   "codemirror_mode": {
    "name": "ipython",
    "version": 3
   },
   "file_extension": ".py",
   "mimetype": "text/x-python",
   "name": "python",
   "nbconvert_exporter": "python",
   "pygments_lexer": "ipython3",
   "version": "3.6.7"
  }
 },
 "nbformat": 4,
 "nbformat_minor": 2
}
