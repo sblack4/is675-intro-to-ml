{
 "cells": [
  {
   "cell_type": "markdown",
   "metadata": {},
   "source": [
    "IS 675: Data Mining\n",
    "Summer 2019\n",
    "# Homework Assignment 4 (Due July, 7 2019, midnight EST)\n",
    "\n",
    "\n",
    "\n",
    "1. Load the diamonds dataset attached to this assignment. (10)\n",
    "1. Encode the categorical attributes cut, color, and clarity into numerical codes. (20 points)\n",
    "1. Discretize the target attribute price into three discrete values: low, medium, and high. (20 points) [Hint: use `qcut()`  in `pandas`]\n",
    "1. Split the data into 80% training and the other 20% for testing. (10)\n",
    "1. Create a multinomial naïve Bayesian classifier and test the model.  (10 points)\n",
    "1. Print the accuracy and the confusion matrix. (10)\n",
    "1. Create a Gaussian naïve Bayesian classifier and test the model.  (10 points)\n",
    "1. Print the accuracy and the confusion matrix. (10)\n"
   ]
  },
  {
   "cell_type": "code",
   "execution_count": null,
   "metadata": {},
   "outputs": [],
   "source": []
  },
  {
   "cell_type": "code",
   "execution_count": null,
   "metadata": {},
   "outputs": [],
   "source": []
  },
  {
   "cell_type": "code",
   "execution_count": null,
   "metadata": {},
   "outputs": [],
   "source": []
  },
  {
   "cell_type": "code",
   "execution_count": null,
   "metadata": {},
   "outputs": [],
   "source": []
  },
  {
   "cell_type": "code",
   "execution_count": null,
   "metadata": {},
   "outputs": [],
   "source": []
  },
  {
   "cell_type": "code",
   "execution_count": null,
   "metadata": {},
   "outputs": [],
   "source": []
  },
  {
   "cell_type": "code",
   "execution_count": null,
   "metadata": {},
   "outputs": [],
   "source": []
  },
  {
   "cell_type": "code",
   "execution_count": null,
   "metadata": {},
   "outputs": [],
   "source": []
  }
 ],
 "metadata": {
  "kernelspec": {
   "display_name": "Python 3",
   "language": "python",
   "name": "python3"
  },
  "language_info": {
   "codemirror_mode": {
    "name": "ipython",
    "version": 3
   },
   "file_extension": ".py",
   "mimetype": "text/x-python",
   "name": "python",
   "nbconvert_exporter": "python",
   "pygments_lexer": "ipython3",
   "version": "3.7.3"
  }
 },
 "nbformat": 4,
 "nbformat_minor": 2
}
