{
 "cells": [
  {
   "cell_type": "markdown",
   "metadata": {},
   "source": [
    "# Directions\n",
    "\n",
    "IS 675: Data Mining\n",
    "Summer 2019\n",
    "Homework Assignment 1 (Due June 16, 2019, midnight EST)\n",
    "\n",
    "\n",
    "Use the iris dataset attached to this assignment.   (20 points each)\n",
    "\n",
    "1. Load the iris data into a matrix. Note that you can modify the `file2matrix()` function in the book to do this. \n",
    "1. Note that the data is ordered by the class, so it needs to be shuffled. Import numpy  and use the `random.shuffle()` function to shuffle the data. \\[Hint: `np.random.shuffle(irisDataMat)`]\n",
    "1. Divide the data such that the data and class labels are stored in separate arrays.\n",
    "1. Divide the data into four matrices: training data, training labels, test data, test labels. Training data should be the first 100 rows and test data should contain the last 50 rows.\n",
    "1. Use the `classify0()` and `datingClassTest()` functions shown in the book to test the classification accuracy. Modify the `datingClassTest()` appropriately with a meaningful name and code to suit the iris dataset.\n"
   ]
  },
  {
   "cell_type": "markdown",
   "metadata": {},
   "source": [
    "# 1. Load the iris data into a matrix. \n",
    "\n",
    "Note that you can modify the `file2matrix()` function in the book to do this."
   ]
  },
  {
   "cell_type": "code",
   "execution_count": null,
   "metadata": {},
   "outputs": [],
   "source": []
  }
 ],
 "metadata": {
  "kernelspec": {
   "display_name": "Python 3",
   "language": "python",
   "name": "python3"
  },
  "language_info": {
   "codemirror_mode": {
    "name": "ipython",
    "version": 3
   },
   "file_extension": ".py",
   "mimetype": "text/x-python",
   "name": "python",
   "nbconvert_exporter": "python",
   "pygments_lexer": "ipython3",
   "version": "3.6.7"
  }
 },
 "nbformat": 4,
 "nbformat_minor": 2
}
