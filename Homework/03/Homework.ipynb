{
 "cells": [
  {
   "cell_type": "markdown",
   "metadata": {},
   "source": [
    "IS 675: Data Mining\n",
    "Summer 2019\n",
    "# Homework Assignment 3 (Due June 30, 2019, midnight EST)\n",
    "\n",
    "\n",
    "\n",
    "1. Using sklearn load the breast cancer dataset from datasets. (10)\n",
    "1. Split the data into 70% training and the other 30% for testing. (20)\n",
    "1. Create a KNN classifier and generate the confusion matrix. (10)\n",
    "1. Create a decision tree classifier and generate the confusion matrix.  (10)\n",
    "1. For the two classifiers calculate and print the following measures: recall, precision, f-measure, sensitivity, specificity, and accuracy.  (50)\n",
    "\n"
   ]
  },
  {
   "cell_type": "code",
   "execution_count": null,
   "metadata": {},
   "outputs": [],
   "source": []
  }
 ],
 "metadata": {
  "kernelspec": {
   "display_name": "Python 3",
   "language": "python",
   "name": "python3"
  },
  "language_info": {
   "codemirror_mode": {
    "name": "ipython",
    "version": 3
   },
   "file_extension": ".py",
   "mimetype": "text/x-python",
   "name": "python",
   "nbconvert_exporter": "python",
   "pygments_lexer": "ipython3",
   "version": "3.6.7"
  }
 },
 "nbformat": 4,
 "nbformat_minor": 2
}
