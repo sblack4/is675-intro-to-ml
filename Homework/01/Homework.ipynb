{
 "cells": [
  {
   "cell_type": "markdown",
   "metadata": {},
   "source": [
    "# Directions\n",
    "\n",
    "IS 675: Data Mining\n",
    "Summer 2019\n",
    "Homework Assignment 1 (Due June 16, 2019, midnight EST)\n",
    "\n",
    "\n",
    "Use the iris dataset attached to this assignment.   (20 points each)\n",
    "\n",
    "1. Load the iris data into a matrix. Note that you can modify the `file2matrix()` function in the book to do this. \n",
    "1. Note that the data is ordered by the class, so it needs to be shuffled. Import numpy  and use the `random.shuffle()` function to shuffle the data. \\[Hint: `np.random.shuffle(irisDataMat)`]\n",
    "1. Divide the data such that the data and class labels are stored in separate arrays.\n",
    "1. Divide the data into four matrices: training data, training labels, test data, test labels. Training data should be the first 100 rows and test data should contain the last 50 rows.\n",
    "1. Use the `classify0()` and `datingClassTest()` functions shown in the book to test the classification accuracy. Modify the `datingClassTest()` appropriately with a meaningful name and code to suit the iris dataset.\n",
    "\n",
    "## Thanks \n",
    "Thanks to Peter Harrington for posting many of the functions used here. They can be found at https://github.com/pbharrin/machinelearninginaction/blob/master/Ch02/kNN.py\n"
   ]
  },
  {
   "cell_type": "code",
   "execution_count": 131,
   "metadata": {},
   "outputs": [],
   "source": [
    "import numpy as np\n",
    "import operator\n",
    "from numpy import zeros, tile, shape"
   ]
  },
  {
   "cell_type": "markdown",
   "metadata": {},
   "source": [
    "# 1. Load the iris data into a matrix. \n",
    "\n",
    "Note that you can modify the `file2matrix()` function in the book to do this."
   ]
  },
  {
   "cell_type": "code",
   "execution_count": 81,
   "metadata": {},
   "outputs": [
    {
     "name": "stdout",
     "output_type": "stream",
     "text": [
      "[[5.1 3.5 1.4 0.2]\n",
      " [4.9 3.  1.4 0.2]\n",
      " [4.7 3.2 1.3 0.2]\n",
      " [4.6 3.1 1.5 0.2]\n",
      " [5.  3.6 1.4 0.2]] \n",
      " (150, 4) \n",
      "\n",
      "[1 1 1 1 1] \n",
      " (150,)\n"
     ]
    }
   ],
   "source": [
    "iris_dictionary={'I. setosa':1, 'I. versicolor':2, 'I. virginica':3}\n",
    "\n",
    "\n",
    "def file2matrix(filename):\n",
    "    fr = open(filename)\n",
    "    arrayOLines = fr.readlines()\n",
    "    numberOfLines = len(arrayOLines)            #get the number of lines in the file\n",
    "    numberOfColumns = len(arrayOLines[0].split(',')) - 1\n",
    "    returnMat = zeros((numberOfLines,numberOfColumns))        #prepare matrix to return\n",
    "    classLabelVector = []                       #prepare labels return   \n",
    "    index = 0\n",
    "    for line in arrayOLines:\n",
    "        line = line.strip()\n",
    "        listFromLine = line.split(',')\n",
    "        returnMat[index,:] = listFromLine[0:numberOfColumns]\n",
    "        if(listFromLine[-1].isdigit()):\n",
    "            classLabelVector.append(int(listFromLine[-1]))\n",
    "        else:\n",
    "            classLabelVector.append(iris_dictionary.get(listFromLine[-1]))\n",
    "        index += 1\n",
    "    return returnMat, classLabelVector\n",
    "\n",
    "file_name = 'iris_data.txt'\n",
    "irisDataMat, irisDataClass = file2matrix(file_name)\n",
    "irisDataClass = np.asarray(irisDataClass)\n",
    "print(irisDataMat[:5], '\\n', irisDataMat.shape, '\\n')\n",
    "print(irisDataClass[:5], '\\n', irisDataClass.shape)"
   ]
  },
  {
   "cell_type": "markdown",
   "metadata": {},
   "source": [
    "## 2. Shuffle \n",
    "Note that the data is ordered by the class, so it needs to be shuffled. Import numpy and use the `random.shuffle()` function to shuffle the data. [Hint: `np.random.shuffle(irisDataMat)`]\n"
   ]
  },
  {
   "cell_type": "code",
   "execution_count": 100,
   "metadata": {},
   "outputs": [
    {
     "name": "stdout",
     "output_type": "stream",
     "text": [
      "[[6.  2.2 4.  1. ]\n",
      " [6.7 3.  5.2 2.3]\n",
      " [5.4 3.4 1.5 0.4]\n",
      " [6.1 2.8 4.7 1.2]\n",
      " [4.9 2.4 3.3 1. ]] \n",
      "\n",
      "[2 1 1 3 1]\n"
     ]
    }
   ],
   "source": [
    "randomize = np.arange(len(irisDataMat))\n",
    "np.random.shuffle(randomize)\n",
    "\n",
    "irisDataMat = irisDataMat[randomize]\n",
    "print(irisDataMat[:5], '\\n')\n",
    "\n",
    "irisDataClass = irisDataClass[randomize]\n",
    "print(irisDataClass[:5])"
   ]
  },
  {
   "cell_type": "markdown",
   "metadata": {},
   "source": [
    "## 3. Divide the data such that the data and class labels are stored in separate arrays.\n"
   ]
  },
  {
   "cell_type": "code",
   "execution_count": 99,
   "metadata": {},
   "outputs": [
    {
     "name": "stdout",
     "output_type": "stream",
     "text": [
      "data [[6.3 2.3 4.4 1.3]\n",
      " [5.  3.6 1.4 0.2]\n",
      " [7.6 3.  6.6 2.1]\n",
      " [5.  3.5 1.6 0.6]\n",
      " [5.6 2.7 4.2 1.3]]\n",
      "\n",
      " class  [2 3 3 2 1]\n",
      "\n",
      " class labels ['I. versicolor', 'I. virginica', 'I. virginica', 'I. versicolor', 'I. setosa']\n"
     ]
    }
   ],
   "source": [
    "print('data', irisDataMat[:5])\n",
    "print('\\n classes encoded ', irisDataClass[:5])\n",
    "\n",
    "iris_class_labels_reverse = dict((v, k) for k, v in iris_dictionary.items())\n",
    "iris_class_labels = [iris_class_labels_reverse[i] for i in irisDataClass]\n",
    "print('\\n class labels', iris_class_labels[:5])"
   ]
  },
  {
   "cell_type": "markdown",
   "metadata": {},
   "source": [
    "## 4. Divide the data into four matrices: training data, training labels, test data, test labels. Training data should be the first 100 rows and test data should contain the last 50 rows.\n"
   ]
  },
  {
   "cell_type": "code",
   "execution_count": 107,
   "metadata": {},
   "outputs": [
    {
     "name": "stdout",
     "output_type": "stream",
     "text": [
      "training data \n",
      " [[6.  2.2 4.  1. ]\n",
      " [6.7 3.  5.2 2.3]\n",
      " [5.4 3.4 1.5 0.4]\n",
      " [6.1 2.8 4.7 1.2]\n",
      " [4.9 2.4 3.3 1. ]] \n",
      " shape:  (100, 4)\n",
      "\n",
      "test data \n",
      " [[4.8 3.1 1.6 0.2]\n",
      " [6.5 3.  5.5 1.8]\n",
      " [5.  3.4 1.5 0.2]\n",
      " [6.9 3.1 5.1 2.3]\n",
      " [4.5 2.3 1.3 0.3]] \n",
      " shape:  (50, 4)\n",
      "\n",
      "training labels \n",
      " ['I. versicolor', 'I. virginica', 'I. virginica', 'I. versicolor', 'I. setosa'] \n",
      " len:  100\n",
      "\n",
      "test labels \n",
      " ['I. versicolor', 'I. setosa', 'I. setosa', 'I. versicolor', 'I. versicolor'] \n",
      " len:  50\n"
     ]
    }
   ],
   "source": [
    "training_data = irisDataMat[:100]\n",
    "test_data = irisDataMat[-50:]\n",
    "print('training data \\n', training_data[:5], '\\n shape: ', training_data.shape)\n",
    "print('\\ntest data \\n', test_data[:5], '\\n shape: ', test_data.shape)\n",
    "\n",
    "training_labels = iris_class_labels[:100]\n",
    "test_labels = iris_class_labels[-50:]\n",
    "print('\\ntraining labels \\n', training_labels[:5], '\\n len: ', len(training_labels))\n",
    "print('\\ntest labels \\n', test_labels[:5], '\\n len: ', len(test_labels))\n"
   ]
  },
  {
   "cell_type": "markdown",
   "metadata": {},
   "source": [
    "## 5. Use the `classify0()` and `datingClassTest()` functions shown in the book to test the classification accuracy. Modify the `datingClassTest()` appropriately with a meaningful name and code to suit the iris dataset."
   ]
  },
  {
   "cell_type": "code",
   "execution_count": 120,
   "metadata": {},
   "outputs": [
    {
     "name": "stdout",
     "output_type": "stream",
     "text": [
      "I. versicolor \t classified as \t I. setosa \t is \t False\n",
      "I. setosa \t classified as \t I. virginica \t is \t False\n",
      "I. setosa \t classified as \t I. versicolor \t is \t False\n",
      "I. versicolor \t classified as \t I. virginica \t is \t False\n",
      "I. versicolor \t classified as \t I. virginica \t is \t False\n",
      "I. setosa \t classified as \t I. versicolor \t is \t False\n",
      "I. virginica \t classified as \t I. setosa \t is \t False\n",
      "I. virginica \t classified as \t I. versicolor \t is \t False\n",
      "I. setosa \t classified as \t I. versicolor \t is \t False\n",
      "I. virginica \t classified as \t I. setosa \t is \t False\n",
      "I. setosa \t classified as \t I. versicolor \t is \t False\n",
      "I. setosa \t classified as \t I. virginica \t is \t False\n",
      "I. setosa \t classified as \t I. versicolor \t is \t False\n",
      "I. virginica \t classified as \t I. setosa \t is \t False\n",
      "I. virginica \t classified as \t I. versicolor \t is \t False\n",
      "I. virginica \t classified as \t I. versicolor \t is \t False\n",
      "I. setosa \t classified as \t I. versicolor \t is \t False\n",
      "I. virginica \t classified as \t I. virginica \t is \t True\n",
      "I. virginica \t classified as \t I. versicolor \t is \t False\n",
      "I. versicolor \t classified as \t I. virginica \t is \t False\n",
      "I. virginica \t classified as \t I. virginica \t is \t True\n",
      "I. virginica \t classified as \t I. setosa \t is \t False\n",
      "I. versicolor \t classified as \t I. versicolor \t is \t True\n",
      "I. versicolor \t classified as \t I. setosa \t is \t False\n",
      "I. versicolor \t classified as \t I. versicolor \t is \t True\n",
      "I. virginica \t classified as \t I. versicolor \t is \t False\n",
      "I. virginica \t classified as \t I. versicolor \t is \t False\n",
      "I. virginica \t classified as \t I. setosa \t is \t False\n",
      "I. setosa \t classified as \t I. setosa \t is \t True\n",
      "I. setosa \t classified as \t I. setosa \t is \t True\n",
      "I. virginica \t classified as \t I. versicolor \t is \t False\n",
      "I. virginica \t classified as \t I. versicolor \t is \t False\n",
      "I. virginica \t classified as \t I. versicolor \t is \t False\n",
      "I. versicolor \t classified as \t I. versicolor \t is \t True\n",
      "I. versicolor \t classified as \t I. versicolor \t is \t True\n",
      "I. setosa \t classified as \t I. setosa \t is \t True\n",
      "I. versicolor \t classified as \t I. virginica \t is \t False\n",
      "I. setosa \t classified as \t I. setosa \t is \t True\n",
      "I. versicolor \t classified as \t I. setosa \t is \t False\n",
      "I. versicolor \t classified as \t I. setosa \t is \t False\n",
      "I. setosa \t classified as \t I. versicolor \t is \t False\n",
      "I. setosa \t classified as \t I. virginica \t is \t False\n",
      "I. versicolor \t classified as \t I. virginica \t is \t False\n",
      "I. versicolor \t classified as \t I. setosa \t is \t False\n",
      "I. versicolor \t classified as \t I. setosa \t is \t False\n",
      "I. versicolor \t classified as \t I. virginica \t is \t False\n",
      "I. virginica \t classified as \t I. versicolor \t is \t False\n",
      "I. virginica \t classified as \t I. setosa \t is \t False\n",
      "I. setosa \t classified as \t I. versicolor \t is \t False\n",
      "I. virginica \t classified as \t I. setosa \t is \t False\n",
      "\n",
      " number correct:  10 / 50\n"
     ]
    }
   ],
   "source": [
    "def classify0(inX, dataSet, labels, k):\n",
    "    dataSetSize = dataSet.shape[0]\n",
    "    diffMat = tile(inX, (dataSetSize,1)) - dataSet\n",
    "    sqDiffMat = diffMat**2\n",
    "    sqDistances = sqDiffMat.sum(axis=1)\n",
    "    distances = sqDistances**0.5\n",
    "    sortedDistIndicies = distances.argsort()     \n",
    "    classCount={}          \n",
    "    for i in range(k):\n",
    "        voteIlabel = labels[sortedDistIndicies[i]]\n",
    "        classCount[voteIlabel] = classCount.get(voteIlabel,0) + 1\n",
    "    sortedClassCount = sorted(classCount.items(), key=operator.itemgetter(1), reverse=True)\n",
    "    return sortedClassCount[0][0]\n",
    "\n",
    "k = 3\n",
    "num_correct = 0\n",
    "\n",
    "for x, y in zip(test_data, test_labels):\n",
    "    classified_as = classify0(x, training_data, training_labels, k)\n",
    "    correct = y == classified_as\n",
    "    if correct:\n",
    "        num_correct += 1\n",
    "    print(y, '\\t classified as \\t', classified_as, '\\t is \\t', correct)\n",
    "\n",
    "print('\\n number correct: ', num_correct, '/', len(test_data))"
   ]
  },
  {
   "cell_type": "code",
   "execution_count": 133,
   "metadata": {},
   "outputs": [
    {
     "name": "stdout",
     "output_type": "stream",
     "text": [
      "the classifier came back with: 2, the real answer is: 1\n",
      "the classifier came back with: 2, the real answer is: 1\n",
      "the classifier came back with: 2, the real answer is: 1\n",
      "the classifier came back with: 2, the real answer is: 1\n",
      "the classifier came back with: 2, the real answer is: 1\n",
      "the classifier came back with: 2, the real answer is: 1\n",
      "the classifier came back with: 2, the real answer is: 1\n",
      "the classifier came back with: 2, the real answer is: 1\n",
      "the classifier came back with: 2, the real answer is: 1\n",
      "the classifier came back with: 2, the real answer is: 1\n",
      "the classifier came back with: 2, the real answer is: 1\n",
      "the classifier came back with: 2, the real answer is: 1\n",
      "the classifier came back with: 2, the real answer is: 1\n",
      "the classifier came back with: 2, the real answer is: 1\n",
      "the classifier came back with: 2, the real answer is: 1\n",
      "the classifier came back with: 2, the real answer is: 1\n",
      "the classifier came back with: 2, the real answer is: 1\n",
      "the classifier came back with: 2, the real answer is: 1\n",
      "the classifier came back with: 2, the real answer is: 1\n",
      "the classifier came back with: 2, the real answer is: 1\n",
      "the classifier came back with: 2, the real answer is: 1\n",
      "the classifier came back with: 2, the real answer is: 1\n",
      "the classifier came back with: 2, the real answer is: 1\n",
      "the classifier came back with: 2, the real answer is: 1\n",
      "the classifier came back with: 2, the real answer is: 1\n",
      "the classifier came back with: 2, the real answer is: 1\n",
      "the classifier came back with: 2, the real answer is: 1\n",
      "the classifier came back with: 2, the real answer is: 1\n",
      "the classifier came back with: 2, the real answer is: 1\n",
      "the classifier came back with: 2, the real answer is: 1\n",
      "the classifier came back with: 2, the real answer is: 1\n",
      "the classifier came back with: 2, the real answer is: 1\n",
      "the classifier came back with: 2, the real answer is: 1\n",
      "the classifier came back with: 2, the real answer is: 1\n",
      "the classifier came back with: 2, the real answer is: 1\n",
      "the classifier came back with: 2, the real answer is: 1\n",
      "the classifier came back with: 2, the real answer is: 1\n",
      "the classifier came back with: 2, the real answer is: 1\n",
      "the classifier came back with: 2, the real answer is: 1\n",
      "the classifier came back with: 2, the real answer is: 1\n",
      "the classifier came back with: 2, the real answer is: 1\n",
      "the classifier came back with: 2, the real answer is: 1\n",
      "the classifier came back with: 2, the real answer is: 1\n",
      "the classifier came back with: 2, the real answer is: 1\n",
      "the classifier came back with: 2, the real answer is: 1\n",
      "the classifier came back with: 2, the real answer is: 1\n",
      "the classifier came back with: 2, the real answer is: 1\n",
      "the classifier came back with: 2, the real answer is: 1\n",
      "the classifier came back with: 2, the real answer is: 1\n",
      "the classifier came back with: 2, the real answer is: 1\n",
      "the classifier came back with: 2, the real answer is: 2\n",
      "the classifier came back with: 2, the real answer is: 2\n",
      "the classifier came back with: 2, the real answer is: 2\n",
      "the classifier came back with: 2, the real answer is: 2\n",
      "the classifier came back with: 2, the real answer is: 2\n",
      "the classifier came back with: 2, the real answer is: 2\n",
      "the classifier came back with: 2, the real answer is: 2\n",
      "the classifier came back with: 2, the real answer is: 2\n",
      "the classifier came back with: 2, the real answer is: 2\n",
      "the classifier came back with: 2, the real answer is: 2\n",
      "the classifier came back with: 2, the real answer is: 2\n",
      "the classifier came back with: 2, the real answer is: 2\n",
      "the classifier came back with: 2, the real answer is: 2\n",
      "the classifier came back with: 2, the real answer is: 2\n",
      "the classifier came back with: 2, the real answer is: 2\n",
      "the classifier came back with: 2, the real answer is: 2\n",
      "the classifier came back with: 2, the real answer is: 2\n",
      "the classifier came back with: 2, the real answer is: 2\n",
      "the classifier came back with: 3, the real answer is: 2\n",
      "the classifier came back with: 2, the real answer is: 2\n",
      "the classifier came back with: 3, the real answer is: 2\n",
      "the classifier came back with: 2, the real answer is: 2\n",
      "the classifier came back with: 3, the real answer is: 2\n",
      "the classifier came back with: 2, the real answer is: 2\n",
      "the classifier came back with: 2, the real answer is: 2\n",
      "the total error rate is: 0.706667\n",
      "53.0\n"
     ]
    }
   ],
   "source": [
    "def autoNorm(dataSet):\n",
    "    minVals = dataSet.min(0)\n",
    "    maxVals = dataSet.max(0)\n",
    "    ranges = maxVals - minVals\n",
    "    normDataSet = zeros(shape(dataSet))\n",
    "    m = dataSet.shape[0]\n",
    "    normDataSet = dataSet - tile(minVals, (m,1))\n",
    "    normDataSet = normDataSet/tile(ranges, (m,1))   #element wise divide\n",
    "    return normDataSet, ranges, minVals\n",
    "\n",
    "def datingClassTest():\n",
    "    hoRatio = 0.50      #hold out 10%\n",
    "    datingDataMat,datingLabels = file2matrix(file_name)       #load data setfrom file\n",
    "    normMat, ranges, minVals = autoNorm(datingDataMat)\n",
    "    m = normMat.shape[0]\n",
    "    numTestVecs = int(m*hoRatio)\n",
    "    errorCount = 0.0\n",
    "    for i in range(numTestVecs):\n",
    "        classifierResult = classify0(normMat[i,:],normMat[numTestVecs:m,:],datingLabels[numTestVecs:m],3)\n",
    "        print(\"the classifier came back with: %d, the real answer is: %d\" % (classifierResult, datingLabels[i]))\n",
    "        if (classifierResult != datingLabels[i]): errorCount += 1.0\n",
    "    print(\"the total error rate is: %f\" % (errorCount/float(numTestVecs)))\n",
    "    print(errorCount)\n",
    "    \n",
    "datingClassTest()"
   ]
  },
  {
   "cell_type": "code",
   "execution_count": null,
   "metadata": {},
   "outputs": [],
   "source": []
  }
 ],
 "metadata": {
  "kernelspec": {
   "display_name": "Python 3",
   "language": "python",
   "name": "python3"
  },
  "language_info": {
   "codemirror_mode": {
    "name": "ipython",
    "version": 3
   },
   "file_extension": ".py",
   "mimetype": "text/x-python",
   "name": "python",
   "nbconvert_exporter": "python",
   "pygments_lexer": "ipython3",
   "version": "3.6.7"
  }
 },
 "nbformat": 4,
 "nbformat_minor": 2
}
