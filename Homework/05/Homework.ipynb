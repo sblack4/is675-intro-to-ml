{
 "cells": [
  {
   "cell_type": "markdown",
   "metadata": {},
   "source": [
    "IS 675: Data Mining\n",
    "Summer 2019\n",
    "## Homework Assignment 5 (Due July, 14 2019, midnight EST)\n",
    "\n",
    "\n",
    "\n",
    "1. Load the diamonds dataset attached to this assignment. (10)\n",
    "2. Create a multinomial logistic regression model with price as the target variable and carat and depth as the predicting variables. Note that you have to encode the discrete variables as before. The attribute price is continuous, so you need to first discretize it and then encode the discretized values. (30 points)\n",
    "3. Plot the decision boundaries for the three classes of diamonds. (10 points)\n",
    "4. Load the wine dataset. (10 points)\n",
    "5. Create a multinomial logistic regression model for the wine dataset with class as the target attribute. Select the best two predicting attributes for the model. [Hint:  look up `sklearn.feature_selection`.] (30 points)\n",
    "6. Plot the decision boundaries for the three classes of wines. (10 points)\n"
   ]
  },
  {
   "cell_type": "code",
   "execution_count": null,
   "metadata": {},
   "outputs": [],
   "source": []
  }
 ],
 "metadata": {
  "kernelspec": {
   "display_name": "Python 3",
   "language": "python",
   "name": "python3"
  },
  "language_info": {
   "codemirror_mode": {
    "name": "ipython",
    "version": 3
   },
   "file_extension": ".py",
   "mimetype": "text/x-python",
   "name": "python",
   "nbconvert_exporter": "python",
   "pygments_lexer": "ipython3",
   "version": "3.7.3"
  }
 },
 "nbformat": 4,
 "nbformat_minor": 2
}
