{
 "cells": [
  {
   "cell_type": "markdown",
   "metadata": {},
   "source": [
    "IS 675: Data Mining\n",
    "Summer 2019\n",
    "# Homework Assignment 3 (Due June 30, 2019, midnight EST)\n",
    "\n",
    "\n",
    "\n",
    "1. Using sklearn load the breast cancer dataset from datasets. (10)\n",
    "1. Split the data into 70% training and the other 30% for testing. (20)\n",
    "1. Create a KNN classifier and generate the confusion matrix. (10)\n",
    "1. Create a decision tree classifier and generate the confusion matrix.  (10)\n",
    "1. For the two classifiers calculate and print the following measures: recall, precision, f-measure, sensitivity, specificity, and accuracy.  (50)\n",
    "\n"
   ]
  },
  {
   "cell_type": "code",
   "execution_count": 1,
   "metadata": {},
   "outputs": [],
   "source": [
    "from sklearn.datasets import load_breast_cancer\n",
    "from sklearn.model_selection import train_test_split\n",
    "from sklearn.neighbors import KNeighborsClassifier\n",
    "from sklearn.metrics import confusion_matrix\n",
    "from sklearn.tree import DecisionTreeClassifier"
   ]
  },
  {
   "cell_type": "markdown",
   "metadata": {},
   "source": [
    "## 1. Using sklearn load the breast cancer dataset from datasets. (10)"
   ]
  },
  {
   "cell_type": "code",
   "execution_count": 2,
   "metadata": {},
   "outputs": [
    {
     "name": "stdout",
     "output_type": "stream",
     "text": [
      ".. _breast_cancer_dataset:\n",
      "\n",
      "Breast cancer wisconsin (diagnostic) dataset\n",
      "--------------------------------------------\n",
      "\n",
      "**Data Set Characteristics:**\n",
      "\n",
      "    :Number of Instances: 569\n",
      "\n",
      "    :Number of Attributes: 30 numeric, predictive attributes and the class\n",
      "\n",
      "    :Attribute Information:\n",
      "        - radius (mean of distances from center to points on the perimeter)\n",
      "        - texture (standard deviation of gray-scale values)\n",
      "        - perimeter\n",
      "        - area\n",
      "        - smoothness (local variation in radius lengths)\n",
      "        - compactness (perimeter^2 / area - 1.0)\n",
      "        - concavity (severity of concave portions of the contour)\n",
      "        - concave points (number of concave portions of the contour)\n",
      "        - symmetry \n",
      "        - fractal dimension (\"coastline approximation\" - 1)\n",
      "\n",
      "        The mean, standard error, and \"worst\" or largest (mean of the three\n",
      "        largest values) of these features were computed for each image,\n",
      "        resulting in 30 features.  For instance, field 3 is Mean Radius, field\n",
      "        13 is Radius SE, field 23 is Worst Radius.\n",
      "\n",
      "        - class:\n",
      "                - WDBC-Malignant\n",
      "                - WDBC-Benign\n",
      "\n",
      "    :Summary Statistics:\n",
      "\n",
      "    ===================================== ====== ======\n",
      "                                           Min    Max\n",
      "    ===================================== ====== ======\n",
      "    radius (mean):                        6.981  28.11\n",
      "    texture (mean):                       9.71   39.28\n",
      "    perimeter (mean):                     43.79  188.5\n",
      "    area (mean):                          143.5  2501.0\n",
      "    smoothness (mean):                    0.053  0.163\n",
      "    compactness (mean):                   0.019  0.345\n",
      "    concavity (mean):                     0.0    0.427\n",
      "    concave points (mean):                0.0    0.201\n",
      "    symmetry (mean):                      0.106  0.304\n",
      "    fractal dimension (mean):             0.05   0.097\n",
      "    radius (standard error):              0.112  2.873\n",
      "    texture (standard error):             0.36   4.885\n",
      "    perimeter (standard error):           0.757  21.98\n",
      "    area (standard error):                6.802  542.2\n",
      "    smoothness (standard error):          0.002  0.031\n",
      "    compactness (standard error):         0.002  0.135\n",
      "    concavity (standard error):           0.0    0.396\n",
      "    concave points (standard error):      0.0    0.053\n",
      "    symmetry (standard error):            0.008  0.079\n",
      "    fractal dimension (standard error):   0.001  0.03\n",
      "    radius (worst):                       7.93   36.04\n",
      "    texture (worst):                      12.02  49.54\n",
      "    perimeter (worst):                    50.41  251.2\n",
      "    area (worst):                         185.2  4254.0\n",
      "    smoothness (worst):                   0.071  0.223\n",
      "    compactness (worst):                  0.027  1.058\n",
      "    concavity (worst):                    0.0    1.252\n",
      "    concave points (worst):               0.0    0.291\n",
      "    symmetry (worst):                     0.156  0.664\n",
      "    fractal dimension (worst):            0.055  0.208\n",
      "    ===================================== ====== ======\n",
      "\n",
      "    :Missing Attribute Values: None\n",
      "\n",
      "    :Class Distribution: 212 - Malignant, 357 - Benign\n",
      "\n",
      "    :Creator:  Dr. William H. Wolberg, W. Nick Street, Olvi L. Mangasarian\n",
      "\n",
      "    :Donor: Nick Street\n",
      "\n",
      "    :Date: November, 1995\n",
      "\n",
      "This is a copy of UCI ML Breast Cancer Wisconsin (Diagnostic) datasets.\n",
      "https://goo.gl/U2Uwz2\n",
      "\n",
      "Features are computed from a digitized image of a fine needle\n",
      "aspirate (FNA) of a breast mass.  They describe\n",
      "characteristics of the cell nuclei present in the image.\n",
      "\n",
      "Separating plane described above was obtained using\n",
      "Multisurface Method-Tree (MSM-T) [K. P. Bennett, \"Decision Tree\n",
      "Construction Via Linear Programming.\" Proceedings of the 4th\n",
      "Midwest Artificial Intelligence and Cognitive Science Society,\n",
      "pp. 97-101, 1992], a classification method which uses linear\n",
      "programming to construct a decision tree.  Relevant features\n",
      "were selected using an exhaustive search in the space of 1-4\n",
      "features and 1-3 separating planes.\n",
      "\n",
      "The actual linear program used to obtain the separating plane\n",
      "in the 3-dimensional space is that described in:\n",
      "[K. P. Bennett and O. L. Mangasarian: \"Robust Linear\n",
      "Programming Discrimination of Two Linearly Inseparable Sets\",\n",
      "Optimization Methods and Software 1, 1992, 23-34].\n",
      "\n",
      "This database is also available through the UW CS ftp server:\n",
      "\n",
      "ftp ftp.cs.wisc.edu\n",
      "cd math-prog/cpo-dataset/machine-learn/WDBC/\n",
      "\n",
      ".. topic:: References\n",
      "\n",
      "   - W.N. Street, W.H. Wolberg and O.L. Mangasarian. Nuclear feature extraction \n",
      "     for breast tumor diagnosis. IS&T/SPIE 1993 International Symposium on \n",
      "     Electronic Imaging: Science and Technology, volume 1905, pages 861-870,\n",
      "     San Jose, CA, 1993.\n",
      "   - O.L. Mangasarian, W.N. Street and W.H. Wolberg. Breast cancer diagnosis and \n",
      "     prognosis via linear programming. Operations Research, 43(4), pages 570-577, \n",
      "     July-August 1995.\n",
      "   - W.H. Wolberg, W.N. Street, and O.L. Mangasarian. Machine learning techniques\n",
      "     to diagnose breast cancer from fine-needle aspirates. Cancer Letters 77 (1994) \n",
      "     163-171.\n"
     ]
    }
   ],
   "source": [
    "breast_cancer_dataset = load_breast_cancer()\n",
    "features, target = load_breast_cancer(return_X_y=True)\n",
    "print(breast_cancer_dataset.DESCR)"
   ]
  },
  {
   "cell_type": "markdown",
   "metadata": {},
   "source": [
    "## 2. Split the data into 70% training and the other 30% for testing. (20)"
   ]
  },
  {
   "cell_type": "code",
   "execution_count": 3,
   "metadata": {},
   "outputs": [],
   "source": [
    "x_train, x_test, y_train, y_test = train_test_split(features, target,\n",
    "                                                    test_size=0.30)"
   ]
  },
  {
   "cell_type": "markdown",
   "metadata": {},
   "source": [
    "## 3. Create a KNN classifier and generate the confusion matrix. (10)"
   ]
  },
  {
   "cell_type": "code",
   "execution_count": 25,
   "metadata": {},
   "outputs": [
    {
     "data": {
      "text/plain": [
       "(63, 8, 1, 99)"
      ]
     },
     "execution_count": 25,
     "metadata": {},
     "output_type": "execute_result"
    }
   ],
   "source": [
    "knn = KNeighborsClassifier()\n",
    "knn.fit(x_train, y_train)\n",
    "y_pred = knn.predict(x_test)\n",
    "tn_knn, fp_knn, fn_knn, tp_knn = confusion_matrix(y_test, y_pred).ravel()\n",
    "tn_knn, fp_knn, fn_knn, tp_knn"
   ]
  },
  {
   "cell_type": "markdown",
   "metadata": {},
   "source": [
    "## 4. Create a decision tree classifier and generate the confusion matrix. (10)"
   ]
  },
  {
   "cell_type": "code",
   "execution_count": 27,
   "metadata": {},
   "outputs": [
    {
     "data": {
      "text/plain": [
       "(64, 7, 4, 96)"
      ]
     },
     "execution_count": 27,
     "metadata": {},
     "output_type": "execute_result"
    }
   ],
   "source": [
    "dtree = DecisionTreeClassifier()\n",
    "dtree.fit(x_train, y_train)\n",
    "y_pred_dtree = dtree.predict(x_test)\n",
    "tn_dtree, fp_dtree, fn_dtree, tp_dtree = confusion_matrix(y_test, y_pred_dtree).ravel()\n",
    "tn_dtree, fp_dtree, fn_dtree, tp_dtree"
   ]
  },
  {
   "cell_type": "markdown",
   "metadata": {},
   "source": [
    "## 5. For the two classifiers calculate and print the following measures: \n",
    "    - recall \n",
    "    - precision \n",
    "    - f-measure \n",
    "    - sensitivity \n",
    "    - specificity\n",
    "    - accuracy   \n",
    "(50)"
   ]
  },
  {
   "cell_type": "code",
   "execution_count": 19,
   "metadata": {},
   "outputs": [
    {
     "name": "stdout",
     "output_type": "stream",
     "text": [
      "Accuracy = (True False + True Negative) / All \n",
      " Correctly identified items.\n",
      "Knn: \t 0.9473684210526315 \n",
      "DTree: \t 0.9181286549707602\n"
     ]
    }
   ],
   "source": [
    "print('Accuracy = (True False + True Negative) / All \\n',\n",
    "     'Correctly identified items.')\n",
    "knn_accuracy = knn.score(x_test, y_test)\n",
    "dtree_accuracy = dtree.score(x_test, y_test)\n",
    "print(\"Knn: \\t\", knn_accuracy, \n",
    "      \"\\nDTree: \\t\", dtree_accuracy)"
   ]
  },
  {
   "cell_type": "code",
   "execution_count": 39,
   "metadata": {},
   "outputs": [
    {
     "name": "stdout",
     "output_type": "stream",
     "text": [
      "Specificity = True Negative / Negative \n",
      " Rate at which true negative is identified.\n",
      "Knn:\t 0.8873239436619719 \n",
      "Dtree:\t 0.9014084507042254\n"
     ]
    }
   ],
   "source": [
    "print('Specificity = True Negative / Negative \\n',\n",
    "      'Rate at which true negative is identified.')\n",
    "knn_specificity = tn_knn / (tn_knn + fp_knn)\n",
    "dtree_specificity = tn_dtree / (tn_dtree + fp_dtree)\n",
    "\n",
    "print('Knn:\\t', knn_specificity,\n",
    "     '\\nDtree:\\t', dtree_specificity)"
   ]
  },
  {
   "cell_type": "code",
   "execution_count": 35,
   "metadata": {},
   "outputs": [
    {
     "name": "stdout",
     "output_type": "stream",
     "text": [
      "Sensitivity = True Positive / Positive \n",
      " Rate at which true positive is identified. \n",
      "Knn:\t 0.99 \n",
      "Dtree:\t 0.96\n"
     ]
    }
   ],
   "source": [
    "print('Sensitivity = True Positive / Positive \\n',\n",
    "     'Rate at which true positive is identified. ')\n",
    "knn_sensitivity = tp_knn / (tp_knn + fn_knn)\n",
    "dtree_sensitivity = tp_dtree / (tp_dtree + fn_dtree)\n",
    "\n",
    "print('Knn:\\t', knn_sensitivity,\n",
    "     '\\nDtree:\\t', dtree_sensitivity)"
   ]
  },
  {
   "cell_type": "code",
   "execution_count": 37,
   "metadata": {},
   "outputs": [
    {
     "name": "stdout",
     "output_type": "stream",
     "text": [
      "Precision = True Positive / (True Positive + False Positive)\n",
      " Percentage of positive items that are correctly labeled. \n",
      "Knn:\t 0.9252336448598131 \n",
      "Dtree:\t 0.9320388349514563\n"
     ]
    }
   ],
   "source": [
    "print('Precision = True Positive / (True Positive + False Positive)\\n',\n",
    "     'Percentage of positive items that are correctly labeled. ')\n",
    "knn_precision = tp_knn / (tp_knn + fp_knn)\n",
    "dtree_precision = tp_dtree / (tp_dtree + fp_dtree)\n",
    "\n",
    "print('Knn:\\t', knn_precision,\n",
    "     '\\nDtree:\\t', dtree_precision)"
   ]
  },
  {
   "cell_type": "code",
   "execution_count": 38,
   "metadata": {},
   "outputs": [
    {
     "name": "stdout",
     "output_type": "stream",
     "text": [
      "Recall = (True Positive) / (True Positive + False Negative)\n",
      " Percentage of positive items labeled as positive. \n",
      "Knn:\t 0.99 \n",
      "Dtree:\t 0.96\n"
     ]
    }
   ],
   "source": [
    "print('Recall = (True Positive) / (True Positive + False Negative)\\n',\n",
    "     'Percentage of positive items labeled as positive. ')\n",
    "knn_recall = tp_knn / (tp_knn + fn_knn)\n",
    "dtree_recall = tp_dtree / (tp_dtree + fn_dtree)\n",
    "\n",
    "print('Knn:\\t', knn_recall,\n",
    "     '\\nDtree:\\t', dtree_recall)"
   ]
  },
  {
   "cell_type": "code",
   "execution_count": 40,
   "metadata": {},
   "outputs": [
    {
     "name": "stdout",
     "output_type": "stream",
     "text": [
      "F-Measure = 2 * Precision * Recall / (Precision + Recall) \n",
      " Harmonic mean of percision and recall. \n",
      "Knn:\t 0.9565217391304348 \n",
      "Dtree:\t 0.9458128078817734\n"
     ]
    }
   ],
   "source": [
    "print('F-Measure = 2 * Precision * Recall / (Precision + Recall) \\n',\n",
    "     'Harmonic mean of percision and recall. ')\n",
    "knn_fmeasure = 2 * knn_precision * knn_recall / (knn_precision + knn_recall)\n",
    "dtree_fmeasure = 2 * dtree_precision * dtree_recall / (dtree_precision + dtree_recall)\n",
    "\n",
    "print('Knn:\\t', knn_fmeasure,\n",
    "     '\\nDtree:\\t', dtree_fmeasure)"
   ]
  },
  {
   "cell_type": "code",
   "execution_count": null,
   "metadata": {},
   "outputs": [],
   "source": []
  }
 ],
 "metadata": {
  "kernelspec": {
   "display_name": "Python 3",
   "language": "python",
   "name": "python3"
  },
  "language_info": {
   "codemirror_mode": {
    "name": "ipython",
    "version": 3
   },
   "file_extension": ".py",
   "mimetype": "text/x-python",
   "name": "python",
   "nbconvert_exporter": "python",
   "pygments_lexer": "ipython3",
   "version": "3.7.3"
  }
 },
 "nbformat": 4,
 "nbformat_minor": 2
}
